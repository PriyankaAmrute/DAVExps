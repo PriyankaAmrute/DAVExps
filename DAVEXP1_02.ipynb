{
  "cells": [
    {
      "cell_type": "markdown",
      "metadata": {
        "id": "view-in-github",
        "colab_type": "text"
      },
      "source": [
        "<a href=\"https://colab.research.google.com/github/PriyankaAmrute/DAVExps/blob/main/DAVEXP1_02.ipynb\" target=\"_parent\"><img src=\"https://colab.research.google.com/assets/colab-badge.svg\" alt=\"Open In Colab\"/></a>"
      ]
    },
    {
      "cell_type": "markdown",
      "metadata": {
        "id": "VFWtxw61_urR"
      },
      "source": [
        "**TITLE** :- Getting introduced to data analytics libraries in Python and R.\n",
        "\n",
        "\n",
        "**AIM**:-\n",
        "1. Explore Top-5 Data Analytics Libraries in Python (w.r.t Features & Applications)\n",
        "2. Explore Top-5 Data Analytics Libraries in R (w.r.t Features & Applications)\n",
        "3. Install 2 Libraries each for Python and R\n",
        "4. Perform simple experiments on the 2 identified libraries each for Python and R\n",
        "6. Prepare a document with the Aim, Tasks performed, Program, Output, and Conclusion.\n",
        "\n",
        "**THEORY**:-\n",
        "\n",
        "***5 Data Analytics Libraries in Python:-***\n",
        "1. *TensorFlow*\n",
        "\n",
        "    *   Features:\n",
        "    \n",
        "    a. Better computational graph visualizations.\n",
        "\n",
        "    b. Reduces error by 50 to 60 percent in neural machine learning.\n",
        "\n",
        "    c. Parallel computing to execute complex models.\n",
        "\n",
        "    d. Seamless library management backed by Google.\n",
        "\n",
        "    e. Quicker updates and frequent new releases to provide you with the latest features\n",
        "\n",
        "    *   Applications:\n",
        "\n",
        "    a. Speech and image recognition.\n",
        "\n",
        "    b. Text-based applications.\n",
        "\n",
        "    c. Time-series analysis.\n",
        "    \n",
        "    d. Video detection\n",
        "\n",
        "2. *NumPy*\n",
        "\n",
        "    *   Features:\n",
        "\n",
        "    a. Provides fast, precompiled functions for numerical routines.\n",
        "\n",
        "    b. Array-oriented computing for better efficiency.\n",
        "\n",
        "    c. Supports an object-oriented approach.\n",
        "\n",
        "    d. Compact and faster computations with vectorization\n",
        "    *   Applications:\n",
        "    \n",
        "    a. Extensively used in data analysis.\n",
        "\n",
        "    b. Creates powerful N-dimensional array.\n",
        "\n",
        "    c. Forms the base of other libraries, such as SciPy and scikit-learn.\n",
        "\n",
        "    d. Replacement of MATLAB when used with SciPy and matplotlib.\n",
        "\n",
        "3. *Pandas*\n",
        "\n",
        "    *   Features:\n",
        "\n",
        "    a. Eloquent syntax and rich functionalities that gives you the freedom to deal with missing data.\n",
        "\n",
        "    b. Enables you to create your own function and run it across a series of data.\n",
        "\n",
        "    c. High-level abstraction.\n",
        "\n",
        "    d. Contains high-level data structures and manipulation tools.\n",
        "    *   Applications:\n",
        "\n",
        "    a. General data wrangling and data cleaning.\n",
        "\n",
        "    b. ETL (extract, transform, load) jobs for data transformation and data storage, as it has excellent support for loading CSV files into its data frame format.\n",
        "\n",
        "    c. Used in a variety of academic and commercial areas, including statistics, finance and neuroscience.\n",
        "\n",
        "    d. Time-series-specific functionality, such as date range generation, moving window, linear regression and date shifting.\n",
        "4. *Matplotlib*\n",
        "\n",
        "    *   Features:\n",
        "\n",
        "    a. Usable as a MATLAB replacement, with the advantage of being free and open source.\n",
        "\n",
        "    b. Supports dozens of backends and output types, which means you can use it regardless of which operating system you’re using or which output format you wish to use.\n",
        "\n",
        "    c. Pandas itself can be used as wrappers around MATLAB API to drive MATLAB like a cleaner/\n",
        "\n",
        "    d. Low memory consumption and better runtime behavior.\n",
        "\n",
        "    *   Applications:\n",
        "\n",
        "    a. Correlation analysis of variables.\n",
        "\n",
        "    b. Visualize 95 percent confidence intervals of the models.\n",
        "\n",
        "    c. Outlier detection using a scatter plot etc.\n",
        "\n",
        "    d. Visualize the distribution of data to gain instant insights.\n",
        "\n",
        "5. *Keras*\n",
        "\n",
        "    *   Features:\n",
        "\n",
        "    a. Keras provides a vast prelabeled datasets which can be used to directly import and load.\n",
        "\n",
        "    b. It contains various implemented layers and parameters that can be used for construction, configuration, training, and evaluation of neural networks.\n",
        "\n",
        "    *   Applications:\n",
        "    \n",
        "    a. One of the most significant applications of Keras are the deep learning models that are available with their pretrained weights. You can use these models directly to make predictions or extract its features without creating or training your own new model.\n",
        "\n",
        "\n",
        "\n",
        "***5 Data Analytics Libraries in R:-***\n",
        "\n",
        "1. *dplyr:*\n",
        "\n",
        "    * Features:\n",
        "\n",
        "      1. Provides a set of functions for data manipulation and transformation.\n",
        "      2. Emphasizes a consistent and intuitive syntax for common data operations.\n",
        "      3. Offers functions like filter, select, mutate, group_by, and summarize for efficient data wrangling.\n",
        "\n",
        "    * Applications:\n",
        "\n",
        "      1. Data cleaning and preprocessing.\n",
        "      2. Aggregating and summarizing data.\n",
        "      3. Selecting and filtering specific columns or rows.\n",
        "\n",
        "2. *ggplot2:*\n",
        "\n",
        "    * Features:\n",
        "\n",
        "      1. A powerful data visualization library.\n",
        "      2. Based on the Grammar of Graphics, allowing users to create complex plots with a simple syntax.\n",
        "      3. Supports a wide range of plot types and customization options.\n",
        "\n",
        "    * Applications:\n",
        "\n",
        "      1. Creating static and interactive visualizations.\n",
        "      2. Exploring relationships between variables.\n",
        "      3. Communicating insights through effective plots.\n",
        "\n",
        "3. *caret:*\n",
        "\n",
        "    * Features:\n",
        "\n",
        "      1. Stands for Classification And REgression Training.\n",
        "      2. Streamlines the process of building, training, and evaluating machine learning models.\n",
        "      3. Provides a unified interface for various modeling techniques.\n",
        "\n",
        "    * Applications:\n",
        "\n",
        "      1. Model selection and comparison.\n",
        "      2. Cross-validation and performance evaluation.\n",
        "      3. Hyperparameter tuning for machine learning models.\n",
        "\n",
        "4. *tidyr:*\n",
        "\n",
        "    * Features:\n",
        "\n",
        "      1. Designed for cleaning and tidying messy data.\n",
        "      2. Includes functions like gather and spread for reshaping data.\n",
        "      3. Works well in conjunction with dplyr for data manipulation tasks.\n",
        "\n",
        "    * Applications:\n",
        "\n",
        "      1. Converting wide to long format and vice versa.\n",
        "      2. Handling missing data and outliers.\n",
        "      3. Preparing data for analysis or visualization.\n",
        "\n",
        "5. *RSQLite:*\n",
        "\n",
        "    * Features:\n",
        "\n",
        "      1. Allows interaction with SQLite databases using R.\n",
        "      2. Provides functions for creating, querying, and modifying SQLite databases.\n",
        "      3. Supports database connections and transactions.\n",
        "\n",
        "    * Applications:\n",
        "\n",
        "      1. Storing and retrieving data in a relational database.\n",
        "      2. Integrating R with databases for large-scale data storage.\n",
        "      3. Performing complex data manipulations directly within the database.\n",
        "\n"
      ]
    },
    {
      "cell_type": "markdown",
      "metadata": {
        "id": "U_ol5IGn_1Sx"
      },
      "source": [
        "# **1. NumPy - Data Analytics Library in Python.**"
      ]
    },
    {
      "cell_type": "code",
      "source": [
        "import numpy as np"
      ],
      "metadata": {
        "id": "BkA5-uGfb0h2"
      },
      "execution_count": 1,
      "outputs": []
    },
    {
      "cell_type": "code",
      "source": [
        "a = np.array([1, 2, 5, 3])\n",
        "\n",
        "# add 1 to every element\n",
        "print (\"Adding 1 to every element:\", a+1)\n",
        "\n",
        "# subtract 3 from each element\n",
        "print (\"Subtracting 3 from each element:\", a-3)\n",
        "\n",
        "# multiply each element by 10\n",
        "print (\"Multiplying each element by 10:\", a*10)\n",
        "\n",
        "# square each element\n",
        "print (\"Squaring each element:\", a**2)\n",
        "\n",
        "# modify existing array\n",
        "a *= 2\n",
        "print (\"Doubled each element of original array:\", a)\n",
        "\n",
        "# transpose of array\n",
        "a = np.array([[1, 2, 3], [3, 4, 5], [9, 6, 0]])\n",
        "\n",
        "print (\"\\nOriginal array:\\n\", a)\n",
        "print (\"Transpose of array:\\n\", a.T)"
      ],
      "metadata": {
        "id": "cmWqCxM2b2GG",
        "colab": {
          "base_uri": "https://localhost:8080/"
        },
        "outputId": "74bb30df-9681-4721-ca27-675aaaa87cd1"
      },
      "execution_count": 2,
      "outputs": [
        {
          "output_type": "stream",
          "name": "stdout",
          "text": [
            "Adding 1 to every element: [2 3 6 4]\n",
            "Subtracting 3 from each element: [-2 -1  2  0]\n",
            "Multiplying each element by 10: [10 20 50 30]\n",
            "Squaring each element: [ 1  4 25  9]\n",
            "Doubled each element of original array: [ 2  4 10  6]\n",
            "\n",
            "Original array:\n",
            " [[1 2 3]\n",
            " [3 4 5]\n",
            " [9 6 0]]\n",
            "Transpose of array:\n",
            " [[1 3 9]\n",
            " [2 4 6]\n",
            " [3 5 0]]\n"
          ]
        }
      ]
    },
    {
      "cell_type": "markdown",
      "source": [
        "# **2. scikit-learn - Data Analytics Library in Python.**"
      ],
      "metadata": {
        "id": "GcM-B6XlAygx"
      }
    },
    {
      "cell_type": "code",
      "source": [
        "from sklearn import datasets\n",
        "iris = datasets.load_iris()\n",
        "X_iris = iris.data\n",
        "y_iris = iris.target"
      ],
      "metadata": {
        "id": "F5CxZNI9Ay6y"
      },
      "execution_count": null,
      "outputs": []
    },
    {
      "cell_type": "code",
      "source": [
        "print (X_iris.shape, y_iris.shape)\n",
        "print ('Feature names:{0}'.format(iris.feature_names))\n",
        "print ('Target classes:{0}'.format(iris.target_names))\n",
        "print ('First instance features:{0}'.format(X_iris[0]))"
      ],
      "metadata": {
        "colab": {
          "base_uri": "https://localhost:8080/"
        },
        "id": "qMGfyUlFA74Y",
        "outputId": "c63d0075-739e-4fd0-f99b-d747dbe384dd"
      },
      "execution_count": null,
      "outputs": [
        {
          "output_type": "stream",
          "name": "stdout",
          "text": [
            "(150, 4) (150,)\n",
            "Feature names:['sepal length (cm)', 'sepal width (cm)', 'petal length (cm)', 'petal width (cm)']\n",
            "Target classes:['setosa' 'versicolor' 'virginica']\n",
            "First instance features:[5.1 3.5 1.4 0.2]\n"
          ]
        }
      ]
    },
    {
      "cell_type": "code",
      "source": [
        "iris"
      ],
      "metadata": {
        "id": "9n5pp_0oA9gr"
      },
      "execution_count": null,
      "outputs": []
    },
    {
      "cell_type": "markdown",
      "source": [
        "# **1. dplyr - Data Analytics Library in R.**\n",
        "\n"
      ],
      "metadata": {
        "id": "0Uh_wB7PBD3d"
      }
    },
    {
      "cell_type": "markdown",
      "source": [
        "CODE/OUTPUT"
      ],
      "metadata": {
        "id": "pj11VWb6BLuO"
      }
    },
    {
      "cell_type": "code",
      "source": [
        "install.packages(\"dplyr\")"
      ],
      "metadata": {
        "colab": {
          "base_uri": "https://localhost:8080/"
        },
        "id": "w-aa7RRIA_lo",
        "outputId": "d1c23c2d-6a86-49ca-e544-541b316a92fa"
      },
      "execution_count": null,
      "outputs": [
        {
          "output_type": "stream",
          "name": "stderr",
          "text": [
            "Installing package into ‘/usr/local/lib/R/site-library’\n",
            "(as ‘lib’ is unspecified)\n",
            "\n"
          ]
        }
      ]
    },
    {
      "cell_type": "code",
      "source": [
        "library(dplyr)"
      ],
      "metadata": {
        "colab": {
          "base_uri": "https://localhost:8080/"
        },
        "id": "QDTcy-8IBN-N",
        "outputId": "29ba529f-4ca4-42df-a8be-065d0b03639b"
      },
      "execution_count": null,
      "outputs": [
        {
          "output_type": "stream",
          "name": "stderr",
          "text": [
            "\n",
            "Attaching package: ‘dplyr’\n",
            "\n",
            "\n",
            "The following objects are masked from ‘package:stats’:\n",
            "\n",
            "    filter, lag\n",
            "\n",
            "\n",
            "The following objects are masked from ‘package:base’:\n",
            "\n",
            "    intersect, setdiff, setequal, union\n",
            "\n",
            "\n"
          ]
        }
      ]
    },
    {
      "cell_type": "code",
      "source": [
        "data <- data.frame(\n",
        "  Name = c(\"Alice\", \"Bob\", \"Charlie\", \"David\", \"Eva\"),\n",
        "  Age = c(25, 30, 22, 28, 35),\n",
        "  Salary = c(50000, 60000, 45000, 55000, 70000)\n",
        ")\n",
        "\n",
        "filtered_data <- data %>%\n",
        "  filter(Age > 25) %>%\n",
        "  select(Name, Salary)\n",
        "\n",
        "print(filtered_data)"
      ],
      "metadata": {
        "colab": {
          "base_uri": "https://localhost:8080/"
        },
        "id": "fC7_bSUABaJ7",
        "outputId": "6c82755a-352c-472f-9c9a-870783b5b004"
      },
      "execution_count": null,
      "outputs": [
        {
          "output_type": "stream",
          "name": "stdout",
          "text": [
            "   Name Salary\n",
            "1   Bob  60000\n",
            "2 David  55000\n",
            "3   Eva  70000\n"
          ]
        }
      ]
    },
    {
      "cell_type": "markdown",
      "source": [
        "# **2. ggplot2 - Data Analytics Library in R.**\n"
      ],
      "metadata": {
        "id": "navQc38EB1ou"
      }
    },
    {
      "cell_type": "code",
      "source": [
        "install.packages(\"ggplot2\")\n"
      ],
      "metadata": {
        "colab": {
          "base_uri": "https://localhost:8080/"
        },
        "id": "DSjuRg9aBi0G",
        "outputId": "fc7b91a8-5aae-4d31-82ef-eefeb78b5ede"
      },
      "execution_count": null,
      "outputs": [
        {
          "output_type": "stream",
          "name": "stderr",
          "text": [
            "Installing package into ‘/usr/local/lib/R/site-library’\n",
            "(as ‘lib’ is unspecified)\n",
            "\n"
          ]
        }
      ]
    },
    {
      "cell_type": "code",
      "source": [
        "library(ggplot2)"
      ],
      "metadata": {
        "id": "TqbyYm57Bl9b"
      },
      "execution_count": null,
      "outputs": []
    },
    {
      "cell_type": "code",
      "source": [
        "data <- data.frame(\n",
        "  Name = c(\"Alice\", \"Bob\", \"Charlie\", \"David\", \"Eva\"),\n",
        "  Age = c(25, 30, 22, 28, 35),\n",
        "  Salary = c(50000, 70000, 45000, 55000, 65000)\n",
        ")\n",
        "\n",
        "ggplot(data, aes(x = Age, y = Salary, color = Name)) +\n",
        "  geom_point() +\n",
        "  labs(title = \"Scatter Plot of Age vs Salary\", x = \"Age\", y = \"Salary\")"
      ],
      "metadata": {
        "colab": {
          "base_uri": "https://localhost:8080/",
          "height": 437
        },
        "id": "KrEjDFJqBqyU",
        "outputId": "30b6e520-ccf4-4c72-f4c1-203a67023637"
      },
      "execution_count": null,
      "outputs": [
        {
          "output_type": "display_data",
          "data": {
            "text/plain": [
              "plot without title"
            ],
            "image/png": "[encoded data removed]"
          },
          "metadata": {
            "image/png": {
              "width": 420,
              "height": 420
            }
          }
        }
      ]
    }
  ],
  "metadata": {
    "colab": {
      "provenance": [],
      "include_colab_link": true
    },
    "kernelspec": {
      "display_name": "Python 3",
      "name": "python3"
    },
    "language_info": {
      "name": "python"
    }
  },
  "nbformat": 4,
  "nbformat_minor": 0
}