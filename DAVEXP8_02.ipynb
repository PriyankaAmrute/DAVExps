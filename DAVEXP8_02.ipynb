{
  "nbformat": 4,
  "nbformat_minor": 0,
  "metadata": {
    "colab": {
      "provenance": [],
      "authorship_tag": "ABX9TyOiecBDuoR5PJrDW5zfOSzJ",
      "include_colab_link": true
    },
    "kernelspec": {
      "name": "python3",
      "display_name": "Python 3"
    },
    "language_info": {
      "name": "python"
    }
  },
  "cells": [
    {
      "cell_type": "markdown",
      "metadata": {
        "id": "view-in-github",
        "colab_type": "text"
      },
      "source": [
        "<a href=\"https://colab.research.google.com/github/PriyankaAmrute/DAVExps/blob/main/DAVEXP8_02.ipynb\" target=\"_parent\"><img src=\"https://colab.research.google.com/assets/colab-badge.svg\" alt=\"Open In Colab\"/></a>"
      ]
    },
    {
      "cell_type": "markdown",
      "source": [
        "# **Aim:**\n",
        "\n",
        "### To set up a D3.js Environment, Select Elements in D3, Modify Elements in D3,Data Loading in D3"
      ],
      "metadata": {
        "id": "5Thd_5sPonnC"
      }
    },
    {
      "cell_type": "markdown",
      "source": [
        "## Set up D3.js Environment."
      ],
      "metadata": {
        "id": "ok92Zv4Ipc3M"
      }
    },
    {
      "cell_type": "code",
      "source": [
        "%%html\n",
        "<!DOCTYPE html>\n",
        "<html lang=\"en\">\n",
        "<head>\n",
        "    <meta charset=\"UTF-8\">\n",
        "    <meta name=\"viewport\" content=\"width=device-width, initial-scale=1.0\">\n",
        "    <title>D3.js Example</title>\n",
        "    <!-- Include D3.js library -->\n",
        "    <script src=\"https://d3js.org/d3.v6.min.js\"></script>\n",
        "</head>\n",
        "<body>\n",
        "    <h1>D3.js Example</h1>\n",
        "    <!-- SVG container for visualization -->\n",
        "    <svg id=\"svg-container\" width=\"400\" height=\"200\"></svg>\n",
        "    <script>\n",
        "    </script>\n",
        "</body>\n",
        "</html>"
      ],
      "metadata": {
        "colab": {
          "base_uri": "https://localhost:8080/",
          "height": 279
        },
        "id": "l7fUr2TKntwt",
        "outputId": "beee5837-efa0-4ba1-b8a3-5729fd675ff3"
      },
      "execution_count": null,
      "outputs": [
        {
          "output_type": "display_data",
          "data": {
            "text/plain": [
              "<IPython.core.display.HTML object>"
            ],
            "text/html": [
              "<!DOCTYPE html>\n",
              "<html lang=\"en\">\n",
              "<head>\n",
              "    <meta charset=\"UTF-8\">\n",
              "    <meta name=\"viewport\" content=\"width=device-width, initial-scale=1.0\">\n",
              "    <title>D3.js Example</title>\n",
              "    <!-- Include D3.js library -->\n",
              "    <script src=\"https://d3js.org/d3.v6.min.js\"></script>\n",
              "</head>\n",
              "<body>\n",
              "    <h1>D3.js Example</h1>\n",
              "    <!-- SVG container for visualization -->\n",
              "    <svg id=\"svg-container\" width=\"400\" height=\"200\"></svg>\n",
              "    <script>\n",
              "        print(Hello!)\n",
              "    </script>\n",
              "</body>\n",
              "</html>\n"
            ]
          },
          "metadata": {}
        }
      ]
    },
    {
      "cell_type": "markdown",
      "source": [
        "## Select Elements in D3"
      ],
      "metadata": {
        "id": "c_oNdi9bp4NK"
      }
    },
    {
      "cell_type": "code",
      "source": [
        "%%html\n",
        "<!DOCTYPE html>\n",
        "<html lang=\"en\">\n",
        "<head>\n",
        "    <meta charset=\"UTF-8\">\n",
        "    <meta name=\"viewport\" content=\"width=device-width, initial-scale=1.0\">\n",
        "    <title>D3.js Example</title>\n",
        "    <script src=\"https://d3js.org/d3.v6.min.js\"></script>\n",
        "</head>\n",
        "<body>\n",
        "    <h1>D3.js Example</h1>\n",
        "    <svg id=\"svg-container\" width=\"400\" height=\"200\"></svg>\n",
        "    <script>\n",
        "    // Select the SVG element\n",
        "    const svg = d3.select('#svg-container');\n",
        "\n",
        "    // Append a circle to the SVG\n",
        "    svg.append('circle')\n",
        "        .attr('cx', 50)\n",
        "        .attr('cy', 50)\n",
        "        .attr('r', 20)\n",
        "        .style('fill', 'red');\n",
        "    </script>\n",
        "</body>\n",
        "</html>"
      ],
      "metadata": {
        "colab": {
          "base_uri": "https://localhost:8080/",
          "height": 279
        },
        "id": "5mcXUinEnttS",
        "outputId": "e13966a9-31e1-4640-aab8-78292bcb15f1"
      },
      "execution_count": null,
      "outputs": [
        {
          "output_type": "display_data",
          "data": {
            "text/plain": [
              "<IPython.core.display.HTML object>"
            ],
            "text/html": [
              "<!DOCTYPE html>\n",
              "<html lang=\"en\">\n",
              "<head>\n",
              "    <meta charset=\"UTF-8\">\n",
              "    <meta name=\"viewport\" content=\"width=device-width, initial-scale=1.0\">\n",
              "    <title>D3.js Example</title>\n",
              "    <script src=\"https://d3js.org/d3.v6.min.js\"></script>\n",
              "</head>\n",
              "<body>\n",
              "    <h1>D3.js Example</h1>\n",
              "    <svg id=\"svg-container\" width=\"400\" height=\"200\"></svg>\n",
              "    <script>\n",
              "    // Select the SVG element\n",
              "    const svg = d3.select('#svg-container');\n",
              "    \n",
              "    // Append a circle to the SVG\n",
              "    svg.append('circle')\n",
              "        .attr('cx', 50)\n",
              "        .attr('cy', 50)\n",
              "        .attr('r', 20)\n",
              "        .style('fill', 'red');\n",
              "    </script>\n",
              "</body>\n",
              "</html>\n"
            ]
          },
          "metadata": {}
        }
      ]
    },
    {
      "cell_type": "code",
      "source": [
        "%%html\n",
        "<!DOCTYPE html>\n",
        "<html lang=\"en\">\n",
        "<head>\n",
        "    <meta charset=\"UTF-8\">\n",
        "    <meta name=\"viewport\" content=\"width=device-width, initial-scale=1.0\">\n",
        "    <title>D3.js Example</title>\n",
        "    <script src=\"https://d3js.org/d3.v6.min.js\"></script>\n",
        "</head>\n",
        "<body>\n",
        "    <h1>D3.js Example</h1>\n",
        "    <svg id=\"svg-container\" width=\"400\" height=\"200\"></svg>\n",
        "    <script>\n",
        "    // Select the SVG element\n",
        "    const svg = d3.select('#svg-container');\n",
        "\n",
        "    // Append a circle to the SVG\n",
        "    const circle = svg.append('circle')\n",
        "        .attr('cx', 50)\n",
        "        .attr('cy', 50)\n",
        "        .attr('r', 20)\n",
        "        .style('fill', 'red');\n",
        "\n",
        "    // Modify the circle\n",
        "    circle.transition()\n",
        "        .duration(1000)\n",
        "        .attr('cx', 150)\n",
        "        .style('fill', 'blue');\n",
        "    </script>\n",
        "</body>\n",
        "</html>"
      ],
      "metadata": {
        "colab": {
          "base_uri": "https://localhost:8080/",
          "height": 279
        },
        "id": "-bYigPKyntC6",
        "outputId": "c07739cd-a428-4e71-f8a5-a12b56b582b7"
      },
      "execution_count": null,
      "outputs": [
        {
          "output_type": "display_data",
          "data": {
            "text/plain": [
              "<IPython.core.display.HTML object>"
            ],
            "text/html": [
              "<!DOCTYPE html>\n",
              "<html lang=\"en\">\n",
              "<head>\n",
              "    <meta charset=\"UTF-8\">\n",
              "    <meta name=\"viewport\" content=\"width=device-width, initial-scale=1.0\">\n",
              "    <title>D3.js Example</title>\n",
              "    <script src=\"https://d3js.org/d3.v6.min.js\"></script>\n",
              "</head>\n",
              "<body>\n",
              "    <h1>D3.js Example</h1>\n",
              "    <svg id=\"svg-container\" width=\"400\" height=\"200\"></svg>\n",
              "    <script>\n",
              "    // Select the SVG element\n",
              "    const svg = d3.select('#svg-container');\n",
              "\n",
              "    // Append a circle to the SVG\n",
              "    const circle = svg.append('circle')\n",
              "        .attr('cx', 50)\n",
              "        .attr('cy', 50)\n",
              "        .attr('r', 20)\n",
              "        .style('fill', 'red');\n",
              "\n",
              "    // Modify the circle\n",
              "    circle.transition()\n",
              "        .duration(1000)\n",
              "        .attr('cx', 150)\n",
              "        .style('fill', 'blue');\n",
              "    </script>\n",
              "</body>\n",
              "</html>\n"
            ]
          },
          "metadata": {}
        }
      ]
    },
    {
      "cell_type": "code",
      "source": [
        "%%html\n",
        "<!DOCTYPE html>\n",
        "<html lang=\"en\">\n",
        "<head>\n",
        "    <meta charset=\"UTF-8\">\n",
        "    <title>D3.js Bar Plot</title>\n",
        "    <!-- Load D3.js library -->\n",
        "    <script src=\"https://d3js.org/d3.v6.min.js\"></script>\n",
        "</head>\n",
        "<body>\n",
        "    <!-- Create an SVG container for visualization -->\n",
        "    <svg id=\"svg-container\" width=\"500\" height=\"300\"></svg>\n",
        "\n",
        "    <!-- Include script for D3.js code -->\n",
        "    <script>\n",
        "        // Generate random data\n",
        "        const data = [\n",
        "            { label: 'A', value: Math.random() * 100 },\n",
        "            { label: 'B', value: Math.random() * 100 },\n",
        "            { label: 'C', value: Math.random() * 100 },\n",
        "            { label: 'D', value: Math.random() * 100 }\n",
        "        ];\n",
        "\n",
        "        // Create SVG container\n",
        "        const svg = d3.select('#svg-container');\n",
        "\n",
        "        // Create scales\n",
        "        const xScale = d3.scaleBand()\n",
        "            .domain(data.map(d => d.label))\n",
        "            .range([0, 500])\n",
        "            .padding(0.1);\n",
        "\n",
        "        const yScale = d3.scaleLinear()\n",
        "            .domain([0, d3.max(data, d => d.value)])\n",
        "            .range([300, 0]);\n",
        "\n",
        "        // Create bars\n",
        "        svg.selectAll('rect')\n",
        "            .data(data)\n",
        "            .enter()\n",
        "            .append('rect')\n",
        "            .attr('x', d => xScale(d.label))\n",
        "            .attr('y', d => yScale(d.value))\n",
        "            .attr('width', xScale.bandwidth())\n",
        "            .attr('height', d => 300 - yScale(d.value))\n",
        "            .attr('fill', 'steelblue');\n",
        "\n",
        "        // Create axes\n",
        "        const xAxis = d3.axisBottom(xScale);\n",
        "        const yAxis = d3.axisLeft(yScale);\n",
        "\n",
        "        svg.append('g')\n",
        "            .attr('transform', 'translate(0, 300)')\n",
        "            .call(xAxis);\n",
        "\n",
        "        svg.append('g')\n",
        "            .call(yAxis);\n",
        "    </script>\n",
        "</body>\n",
        "</html>"
      ],
      "metadata": {
        "colab": {
          "base_uri": "https://localhost:8080/",
          "height": 322
        },
        "id": "atazXUoxq0Cs",
        "outputId": "1044a658-7011-4c0b-9bac-e832add4707f"
      },
      "execution_count": null,
      "outputs": [
        {
          "output_type": "display_data",
          "data": {
            "text/plain": [
              "<IPython.core.display.HTML object>"
            ],
            "text/html": [
              "<!DOCTYPE html>\n",
              "<html lang=\"en\">\n",
              "<head>\n",
              "    <meta charset=\"UTF-8\">\n",
              "    <title>D3.js Bar Plot</title>\n",
              "    <!-- Load D3.js library -->\n",
              "    <script src=\"https://d3js.org/d3.v6.min.js\"></script>\n",
              "</head>\n",
              "<body>\n",
              "    <!-- Create an SVG container for visualization -->\n",
              "    <svg id=\"svg-container\" width=\"500\" height=\"300\"></svg>\n",
              "\n",
              "    <!-- Include script for D3.js code -->\n",
              "    <script>\n",
              "        // Generate random data\n",
              "        const data = [\n",
              "            { label: 'A', value: Math.random() * 100 },\n",
              "            { label: 'B', value: Math.random() * 100 },\n",
              "            { label: 'C', value: Math.random() * 100 },\n",
              "            { label: 'D', value: Math.random() * 100 }\n",
              "        ];\n",
              "\n",
              "        // Create SVG container\n",
              "        const svg = d3.select('#svg-container');\n",
              "\n",
              "        // Create scales\n",
              "        const xScale = d3.scaleBand()\n",
              "            .domain(data.map(d => d.label))\n",
              "            .range([0, 500])\n",
              "            .padding(0.1);\n",
              "\n",
              "        const yScale = d3.scaleLinear()\n",
              "            .domain([0, d3.max(data, d => d.value)])\n",
              "            .range([300, 0]);\n",
              "\n",
              "        // Create bars\n",
              "        svg.selectAll('rect')\n",
              "            .data(data)\n",
              "            .enter()\n",
              "            .append('rect')\n",
              "            .attr('x', d => xScale(d.label))\n",
              "            .attr('y', d => yScale(d.value))\n",
              "            .attr('width', xScale.bandwidth())\n",
              "            .attr('height', d => 300 - yScale(d.value))\n",
              "            .attr('fill', 'steelblue');\n",
              "\n",
              "        // Create axes\n",
              "        const xAxis = d3.axisBottom(xScale);\n",
              "        const yAxis = d3.axisLeft(yScale);\n",
              "\n",
              "        svg.append('g')\n",
              "            .attr('transform', 'translate(0, 300)')\n",
              "            .call(xAxis);\n",
              "\n",
              "        svg.append('g')\n",
              "            .call(yAxis);\n",
              "    </script>\n",
              "</body>\n",
              "</html>\n"
            ]
          },
          "metadata": {}
        }
      ]
    },
    {
      "cell_type": "code",
      "source": [],
      "metadata": {
        "id": "6WhbqCMyrPCC"
      },
      "execution_count": null,
      "outputs": []
    }
  ]
}