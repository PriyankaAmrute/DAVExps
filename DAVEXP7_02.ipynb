{
  "nbformat": 4,
  "nbformat_minor": 0,
  "metadata": {
    "colab": {
      "provenance": [],
      "include_colab_link": true
    },
    "kernelspec": {
      "name": "ir",
      "display_name": "R"
    },
    "language_info": {
      "name": "R"
    }
  },
  "cells": [
    {
      "cell_type": "markdown",
      "metadata": {
        "id": "view-in-github",
        "colab_type": "text"
      },
      "source": [
        "<a href=\"https://colab.research.google.com/github/PriyankaAmrute/DAVExps/blob/main/DAVEXP7_02.ipynb\" target=\"_parent\"><img src=\"https://colab.research.google.com/assets/colab-badge.svg\" alt=\"Open In Colab\"/></a>"
      ]
    },
    {
      "cell_type": "markdown",
      "source": [
        "  ## **Aim :**\n",
        "  To perform the steps involved in Text Analytics in Python & R."
      ],
      "metadata": {
        "id": "idzp3oJIkD_R"
      }
    },
    {
      "cell_type": "markdown",
      "source": [
        "## **Task to be performed :**\n",
        "1. Explore Top-5 Text Analytics Libraries in Python (w.r.t Features Applications)\n",
        "2. Explore Top-5 Text Analytics Libraries in R (w.r.t Features & Applications)\n",
        "3. Perform the following experiments using Python & R\n",
        "* Tokenization (Sentence & Word)\n",
        "* Frequency Distribution\n",
        "* Remove stopwords & punctuations\n",
        "* Lexicon Normalization (Stemming, Lemmatization)\n",
        "* Part of Speech tagging\n",
        "* Named Entity Recognization\n",
        "* Scrape data from a website\n",
        "\n",
        "\n",
        "\n",
        "\n",
        "\n",
        "\n",
        "\n",
        "\n"
      ],
      "metadata": {
        "id": "lSTtBvE-kDZ_"
      }
    },
    {
      "cell_type": "markdown",
      "source": [
        "# **Text Analytics in Python**"
      ],
      "metadata": {
        "id": "UbShQ6Kimq3G"
      }
    },
    {
      "cell_type": "code",
      "source": [
        "pip install beautifulsoup4"
      ],
      "metadata": {
        "colab": {
          "base_uri": "https://localhost:8080/",
          "height": 106
        },
        "id": "si3b0z1UnhA6",
        "outputId": "d6ab1b07-2e06-4368-ac05-c963b8218b08"
      },
      "execution_count": null,
      "outputs": [
        {
          "output_type": "error",
          "ename": "ERROR",
          "evalue": "Error in parse(text = x, srcfile = src): <text>:1:5: unexpected symbol\n1: pip install\n        ^\n",
          "traceback": [
            "Error in parse(text = x, srcfile = src): <text>:1:5: unexpected symbol\n1: pip install\n        ^\nTraceback:\n"
          ]
        }
      ]
    },
    {
      "cell_type": "code",
      "source": [
        "import nltk\n",
        "nltk.download('punkt')\n",
        "nltk.download('stopwords')\n",
        "nltk.download('wordnet')\n",
        "nltk.download('averaged_perceptron_tagger')\n",
        "nltk.download('maxent_ne_chunker')\n",
        "nltk.download('words')"
      ],
      "metadata": {
        "colab": {
          "base_uri": "https://localhost:8080/"
        },
        "id": "OQkXnoMNng9d",
        "outputId": "c5bc001e-355d-470a-9f6b-f64d73671b63"
      },
      "execution_count": null,
      "outputs": [
        {
          "output_type": "stream",
          "name": "stderr",
          "text": [
            "[nltk_data] Downloading package punkt to /root/nltk_data...\n",
            "[nltk_data]   Unzipping tokenizers/punkt.zip.\n",
            "[nltk_data] Downloading package stopwords to /root/nltk_data...\n",
            "[nltk_data]   Unzipping corpora/stopwords.zip.\n",
            "[nltk_data] Downloading package wordnet to /root/nltk_data...\n",
            "[nltk_data] Downloading package averaged_perceptron_tagger to\n",
            "[nltk_data]     /root/nltk_data...\n",
            "[nltk_data]   Unzipping taggers/averaged_perceptron_tagger.zip.\n",
            "[nltk_data] Downloading package maxent_ne_chunker to\n",
            "[nltk_data]     /root/nltk_data...\n",
            "[nltk_data]   Unzipping chunkers/maxent_ne_chunker.zip.\n",
            "[nltk_data] Downloading package words to /root/nltk_data...\n",
            "[nltk_data]   Unzipping corpora/words.zip.\n"
          ]
        },
        {
          "output_type": "execute_result",
          "data": {
            "text/plain": [
              "True"
            ]
          },
          "metadata": {},
          "execution_count": 5
        }
      ]
    },
    {
      "cell_type": "code",
      "source": [
        "from nltk.tokenize import sent_tokenize, word_tokenize\n",
        "from nltk.probability import FreqDist\n",
        "from nltk.corpus import stopwords\n",
        "from nltk.stem import PorterStemmer, WordNetLemmatizer\n",
        "from nltk.tag import pos_tag\n",
        "from nltk.chunk import ne_chunk\n",
        "import requests\n",
        "from bs4 import BeautifulSoup"
      ],
      "metadata": {
        "id": "8iEtl2nFng60"
      },
      "execution_count": null,
      "outputs": []
    },
    {
      "cell_type": "markdown",
      "source": [
        "## Tokenization(sentence and word)"
      ],
      "metadata": {
        "id": "48eDuKmDnDvY"
      }
    },
    {
      "cell_type": "code",
      "source": [
        "text = \"Natural language processing (NLP) is a subfield of linguistics, computer science, information engineering, and artificial intelligence concerned with the interactions between computers and human (natural) languages, in particular how to program computers to process and analyze large amounts of natural language data. Sentence tokenization, also known as sentence segmentation, is the process of splitting a text into individual sentences based on some predetermined rules.\"\n",
        "sentences = sent_tokenize(text)\n",
        "words = word_tokenize(text)"
      ],
      "metadata": {
        "id": "k2nvb7VCmnpb"
      },
      "execution_count": null,
      "outputs": []
    },
    {
      "cell_type": "code",
      "source": [
        "sentences"
      ],
      "metadata": {
        "colab": {
          "base_uri": "https://localhost:8080/"
        },
        "id": "5v2Af_0mmoTo",
        "outputId": "410263bb-ed4d-4d9d-92df-aaffd3527413"
      },
      "execution_count": null,
      "outputs": [
        {
          "output_type": "execute_result",
          "data": {
            "text/plain": [
              "['Natural language processing (NLP) is a subfield of linguistics, computer science, information engineering, and artificial intelligence concerned with the interactions between computers and human (natural) languages, in particular how to program computers to process and analyze large amounts of natural language data.',\n",
              " 'Sentence tokenization, also known as sentence segmentation, is the process of splitting a text into individual sentences based on some predetermined rules.']"
            ]
          },
          "metadata": {},
          "execution_count": 12
        }
      ]
    },
    {
      "cell_type": "code",
      "source": [
        "print(words)"
      ],
      "metadata": {
        "colab": {
          "base_uri": "https://localhost:8080/"
        },
        "id": "y5Vn_SDxpKvc",
        "outputId": "d5d0f90c-627a-4f41-98d4-75e425b49394"
      },
      "execution_count": null,
      "outputs": [
        {
          "output_type": "stream",
          "name": "stdout",
          "text": [
            "['Natural', 'language', 'processing', '(', 'NLP', ')', 'is', 'a', 'subfield', 'of', 'linguistics', ',', 'computer', 'science', ',', 'information', 'engineering', ',', 'and', 'artificial', 'intelligence', 'concerned', 'with', 'the', 'interactions', 'between', 'computers', 'and', 'human', '(', 'natural', ')', 'languages', ',', 'in', 'particular', 'how', 'to', 'program', 'computers', 'to', 'process', 'and', 'analyze', 'large', 'amounts', 'of', 'natural', 'language', 'data', '.', 'Sentence', 'tokenization', ',', 'also', 'known', 'as', 'sentence', 'segmentation', ',', 'is', 'the', 'process', 'of', 'splitting', 'a', 'text', 'into', 'individual', 'sentences', 'based', 'on', 'some', 'predetermined', 'rules', '.']\n"
          ]
        }
      ]
    },
    {
      "cell_type": "markdown",
      "source": [
        "## Frequency Distribution"
      ],
      "metadata": {
        "id": "XeAugEiTp_ff"
      }
    },
    {
      "cell_type": "code",
      "source": [
        "import matplotlib.pyplot as plt"
      ],
      "metadata": {
        "id": "M86r5tcnqX1R"
      },
      "execution_count": null,
      "outputs": []
    },
    {
      "cell_type": "code",
      "source": [
        "# Compute frequency distribution\n",
        "fdist = FreqDist(words)\n",
        "print(\"Frequency Distribution:\")\n",
        "print(fdist.most_common(10))  # Display the 10 most common words"
      ],
      "metadata": {
        "colab": {
          "base_uri": "https://localhost:8080/"
        },
        "id": "c3v0TwpspMiO",
        "outputId": "0b6030b8-da55-4caa-c29b-5712492198f0"
      },
      "execution_count": null,
      "outputs": [
        {
          "output_type": "stream",
          "name": "stdout",
          "text": [
            "Frequency Distribution:\n",
            "[(',', 6), ('of', 3), ('and', 3), ('language', 2), ('(', 2), (')', 2), ('is', 2), ('a', 2), ('the', 2), ('computers', 2)]\n"
          ]
        }
      ]
    },
    {
      "cell_type": "code",
      "source": [
        "# Plot frequency distribution graph\n",
        "plt.figure(figsize=(10, 6))\n",
        "fdist.plot(20, title='Frequency Distribution of Words')\n",
        "plt.show()"
      ],
      "metadata": {
        "colab": {
          "base_uri": "https://localhost:8080/",
          "height": 625
        },
        "id": "rH0tAa8WqG63",
        "outputId": "d4720798-04ee-4cf9-a3d2-8fceb67fc0f5"
      },
      "execution_count": null,
      "outputs": [
        {
          "output_type": "display_data",
          "data": {
            "text/plain": [
              "<Figure size 1000x600 with 1 Axes>"
            ],
            "image/png": "[encoded data removed]"
          },
          "metadata": {}
        }
      ]
    },
    {
      "cell_type": "markdown",
      "source": [
        "## Remove stopwords & punctuations"
      ],
      "metadata": {
        "id": "oSErqI23q-mp"
      }
    },
    {
      "cell_type": "code",
      "source": [
        "import string"
      ],
      "metadata": {
        "id": "giwger6ProEo"
      },
      "execution_count": null,
      "outputs": []
    },
    {
      "cell_type": "code",
      "source": [
        "#Remove stopwords and punctuation\n",
        "stop_words = set(stopwords.words('english'))\n",
        "filtered_words = [word for word in words if word.lower() not in stop_words and word not in string.punctuation]"
      ],
      "metadata": {
        "id": "AVyFPU3hrGdo"
      },
      "execution_count": null,
      "outputs": []
    },
    {
      "cell_type": "code",
      "source": [
        "# Join the filtered words back into a sentence\n",
        "filtered_sentence = ' '.join(filtered_words)"
      ],
      "metadata": {
        "id": "qC14izg0reUJ"
      },
      "execution_count": null,
      "outputs": []
    },
    {
      "cell_type": "code",
      "source": [
        "print(filtered_sentence)"
      ],
      "metadata": {
        "colab": {
          "base_uri": "https://localhost:8080/"
        },
        "id": "KAy0iJ5vreQm",
        "outputId": "e48f428c-1a88-4142-c00a-9a431ec0e74e"
      },
      "execution_count": null,
      "outputs": [
        {
          "output_type": "stream",
          "name": "stdout",
          "text": [
            "Natural language processing NLP subfield linguistics computer science information engineering artificial intelligence concerned interactions computers human natural languages particular program computers process analyze large amounts natural language data Sentence tokenization also known sentence segmentation process splitting text individual sentences based predetermined rules\n"
          ]
        }
      ]
    },
    {
      "cell_type": "markdown",
      "source": [
        "## Lexicon Normalization (Stemming, Lemmatization)"
      ],
      "metadata": {
        "id": "u6Nhznv0rsdZ"
      }
    },
    {
      "cell_type": "code",
      "source": [
        "ps = PorterStemmer()\n",
        "stemmed_words = [ps.stem(word) for word in filtered_words]"
      ],
      "metadata": {
        "id": "Hi7zI6EvrqpB"
      },
      "execution_count": null,
      "outputs": []
    },
    {
      "cell_type": "code",
      "source": [
        "print(stemmed_words)"
      ],
      "metadata": {
        "colab": {
          "base_uri": "https://localhost:8080/"
        },
        "id": "AZ4lMYKMsNW2",
        "outputId": "aa4cf8f5-6d4f-44f9-a3ec-68bf65f046ef"
      },
      "execution_count": null,
      "outputs": [
        {
          "output_type": "stream",
          "name": "stdout",
          "text": [
            "['natur', 'languag', 'process', 'nlp', 'subfield', 'linguist', 'comput', 'scienc', 'inform', 'engin', 'artifici', 'intellig', 'concern', 'interact', 'comput', 'human', 'natur', 'languag', 'particular', 'program', 'comput', 'process', 'analyz', 'larg', 'amount', 'natur', 'languag', 'data', 'sentenc', 'token', 'also', 'known', 'sentenc', 'segment', 'process', 'split', 'text', 'individu', 'sentenc', 'base', 'predetermin', 'rule']\n"
          ]
        }
      ]
    },
    {
      "cell_type": "code",
      "source": [
        "lemmatizer = WordNetLemmatizer()\n",
        "lemmatized_words = [lemmatizer.lemmatize(word) for word in filtered_words]"
      ],
      "metadata": {
        "id": "TYDMuREQr14O"
      },
      "execution_count": null,
      "outputs": []
    },
    {
      "cell_type": "code",
      "source": [
        "print(lemmatized_words)"
      ],
      "metadata": {
        "colab": {
          "base_uri": "https://localhost:8080/"
        },
        "id": "TF6LATpur10o",
        "outputId": "69a37f8b-7985-4892-a598-980e2edb7a71"
      },
      "execution_count": null,
      "outputs": [
        {
          "output_type": "stream",
          "name": "stdout",
          "text": [
            "['Natural', 'language', 'processing', 'NLP', 'subfield', 'linguistics', 'computer', 'science', 'information', 'engineering', 'artificial', 'intelligence', 'concerned', 'interaction', 'computer', 'human', 'natural', 'language', 'particular', 'program', 'computer', 'process', 'analyze', 'large', 'amount', 'natural', 'language', 'data', 'Sentence', 'tokenization', 'also', 'known', 'sentence', 'segmentation', 'process', 'splitting', 'text', 'individual', 'sentence', 'based', 'predetermined', 'rule']\n"
          ]
        }
      ]
    },
    {
      "cell_type": "markdown",
      "source": [
        "## Part of Speech tagging"
      ],
      "metadata": {
        "id": "iMq9yn1OtFvT"
      }
    },
    {
      "cell_type": "code",
      "source": [
        "pos_tags = pos_tag(filtered_words)\n",
        "print(pos_tags)"
      ],
      "metadata": {
        "colab": {
          "base_uri": "https://localhost:8080/"
        },
        "id": "5Ewv2ZhHs6f5",
        "outputId": "69e967b6-1325-470d-911a-2d7c0f47d6ea"
      },
      "execution_count": null,
      "outputs": [
        {
          "output_type": "stream",
          "name": "stdout",
          "text": [
            "[('Natural', 'JJ'), ('language', 'NN'), ('processing', 'NN'), ('NLP', 'NNP'), ('subfield', 'NN'), ('linguistics', 'NNS'), ('computer', 'NN'), ('science', 'NN'), ('information', 'NN'), ('engineering', 'NN'), ('artificial', 'JJ'), ('intelligence', 'NN'), ('concerned', 'VBN'), ('interactions', 'NNS'), ('computers', 'NNS'), ('human', 'JJ'), ('natural', 'JJ'), ('languages', 'NNS'), ('particular', 'JJ'), ('program', 'NN'), ('computers', 'NNS'), ('process', 'VBP'), ('analyze', 'JJ'), ('large', 'JJ'), ('amounts', 'NNS'), ('natural', 'JJ'), ('language', 'NN'), ('data', 'NNS'), ('Sentence', 'NNP'), ('tokenization', 'NN'), ('also', 'RB'), ('known', 'VBN'), ('sentence', 'NN'), ('segmentation', 'NN'), ('process', 'NN'), ('splitting', 'VBG'), ('text', 'JJ'), ('individual', 'JJ'), ('sentences', 'NNS'), ('based', 'VBN'), ('predetermined', 'VBD'), ('rules', 'NNS')]\n"
          ]
        }
      ]
    },
    {
      "cell_type": "markdown",
      "source": [
        "## Named Entity Recognition"
      ],
      "metadata": {
        "id": "QsYaCQIMtmVQ"
      }
    },
    {
      "cell_type": "code",
      "source": [
        "named_entities = ne_chunk(pos_tags)\n",
        "print(named_entities)"
      ],
      "metadata": {
        "colab": {
          "base_uri": "https://localhost:8080/"
        },
        "id": "y1D2c9zOtnVC",
        "outputId": "77981881-ed59-4426-e1ee-b1e6777cc1bc"
      },
      "execution_count": null,
      "outputs": [
        {
          "output_type": "stream",
          "name": "stdout",
          "text": [
            "(S\n",
            "  Natural/JJ\n",
            "  language/NN\n",
            "  processing/NN\n",
            "  (ORGANIZATION NLP/NNP)\n",
            "  subfield/NN\n",
            "  linguistics/NNS\n",
            "  computer/NN\n",
            "  science/NN\n",
            "  information/NN\n",
            "  engineering/NN\n",
            "  artificial/JJ\n",
            "  intelligence/NN\n",
            "  concerned/VBN\n",
            "  interactions/NNS\n",
            "  computers/NNS\n",
            "  human/JJ\n",
            "  natural/JJ\n",
            "  languages/NNS\n",
            "  particular/JJ\n",
            "  program/NN\n",
            "  computers/NNS\n",
            "  process/VBP\n",
            "  analyze/JJ\n",
            "  large/JJ\n",
            "  amounts/NNS\n",
            "  natural/JJ\n",
            "  language/NN\n",
            "  data/NNS\n",
            "  Sentence/NNP\n",
            "  tokenization/NN\n",
            "  also/RB\n",
            "  known/VBN\n",
            "  sentence/NN\n",
            "  segmentation/NN\n",
            "  process/NN\n",
            "  splitting/VBG\n",
            "  text/JJ\n",
            "  individual/JJ\n",
            "  sentences/NNS\n",
            "  based/VBN\n",
            "  predetermined/VBD\n",
            "  rules/NNS)\n"
          ]
        }
      ]
    },
    {
      "cell_type": "markdown",
      "source": [
        "## Scrape data from a website"
      ],
      "metadata": {
        "id": "VMYKdbsPueYX"
      }
    },
    {
      "cell_type": "code",
      "source": [
        "url = 'https://www.amazon.in/'\n",
        "response = requests.get(url)\n",
        "html = response.text\n",
        "soup = BeautifulSoup(html, 'html.parser')\n",
        "text_from_website = soup.get_text()"
      ],
      "metadata": {
        "id": "XE94i0vjtsjf"
      },
      "execution_count": null,
      "outputs": []
    },
    {
      "cell_type": "code",
      "source": [
        "print(text_from_website)"
      ],
      "metadata": {
        "colab": {
          "base_uri": "https://localhost:8080/"
        },
        "id": "lehtb24jumiJ",
        "outputId": "03bfce8b-e8f7-438a-deb0-60695ed902b2"
      },
      "execution_count": null,
      "outputs": [
        {
          "output_type": "stream",
          "name": "stdout",
          "text": [
            "\n",
            "\n",
            "\n",
            "\n",
            "\n",
            "\n",
            "\n",
            "\n",
            "\n",
            "Amazon.in\n",
            "\n",
            "\n",
            "\n",
            "\n",
            "\n",
            "\n",
            "\n",
            "\n",
            "\n",
            "\n",
            "\n",
            "\n",
            "\n",
            "Enter the characters you see below\n",
            "Sorry, we just need to make sure you're not a robot. For best results, please make sure your browser is accepting cookies.\n",
            "\n",
            "\n",
            "\n",
            "\n",
            "\n",
            "\n",
            "\n",
            "\n",
            "\n",
            "\n",
            "Type the characters you see in this image:\n",
            "\n",
            "\n",
            "\n",
            "\n",
            "\n",
            "\n",
            "\n",
            "\n",
            "\n",
            "Try different image\n",
            "\n",
            "\n",
            "\n",
            "\n",
            "\n",
            "\n",
            "\n",
            "\n",
            "\n",
            "\n",
            "\n",
            "Continue shopping\n",
            "\n",
            "\n",
            "\n",
            "\n",
            "\n",
            "\n",
            "\n",
            "\n",
            "\n",
            "\n",
            "\n",
            "Conditions of Use & Sale\n",
            "\n",
            "\n",
            "\n",
            "\n",
            "Privacy Notice\n",
            "\n",
            "\n",
            "          © 1996-2015, Amazon.com, Inc. or its affiliates\n",
            "          \n",
            "\n",
            "\n",
            "\n",
            "\n",
            "\n",
            "\n",
            "\n",
            "\n"
          ]
        }
      ]
    },
    {
      "cell_type": "markdown",
      "source": [
        "# **Text Analytics in R**"
      ],
      "metadata": {
        "id": "CsCswp6gws73"
      }
    },
    {
      "cell_type": "code",
      "source": [
        "install.packages(\"tm\", repos=\"http://R-Forge.R-project.org\")"
      ],
      "metadata": {
        "colab": {
          "base_uri": "https://localhost:8080/"
        },
        "id": "xq37cI-yyjJ0",
        "outputId": "06a54657-eac2-4a35-e144-eb02b66b82b6"
      },
      "execution_count": null,
      "outputs": [
        {
          "output_type": "stream",
          "name": "stderr",
          "text": [
            "Installing package into ‘/usr/local/lib/R/site-library’\n",
            "(as ‘lib’ is unspecified)\n",
            "\n",
            "Warning message:\n",
            "“dependencies ‘NLP’, ‘slam’ are not available”\n",
            "Warning message in install.packages(\"tm\", repos = \"http://R-Forge.R-project.org\"):\n",
            "“installation of package ‘tm’ had non-zero exit status”\n"
          ]
        }
      ]
    },
    {
      "cell_type": "code",
      "source": [
        "library(tidyverse)     # For data manipulation and visualization\n",
        "library(tm)            # For text mining\n",
        "library(SnowballC)     # For stemming\n",
        "library(openNLP)       # For named entity recognition"
      ],
      "metadata": {
        "colab": {
          "base_uri": "https://localhost:8080/",
          "height": 106
        },
        "id": "LpQ24pWHvEw4",
        "outputId": "c1a471e4-f2eb-4ed2-966f-4a7e5052913f"
      },
      "execution_count": null,
      "outputs": [
        {
          "output_type": "error",
          "ename": "ERROR",
          "evalue": "Error in library(tm): there is no package called ‘tm’\n",
          "traceback": [
            "Error in library(tm): there is no package called ‘tm’\nTraceback:\n",
            "1. library(tm)"
          ]
        }
      ]
    },
    {
      "cell_type": "markdown",
      "source": [
        "## Tokenization(words and sentences)"
      ],
      "metadata": {
        "id": "sS_qfu4Xw42N"
      }
    },
    {
      "cell_type": "code",
      "source": [
        "install.packages(\"tokenizers\")"
      ],
      "metadata": {
        "colab": {
          "base_uri": "https://localhost:8080/"
        },
        "id": "z6nd7L-skK-p",
        "outputId": "8e332d40-3369-4ed0-be2c-d1b9eeff65fc"
      },
      "execution_count": null,
      "outputs": [
        {
          "output_type": "stream",
          "name": "stderr",
          "text": [
            "Installing package into ‘/usr/local/lib/R/site-library’\n",
            "(as ‘lib’ is unspecified)\n",
            "\n"
          ]
        }
      ]
    },
    {
      "cell_type": "code",
      "source": [
        "library(tokenizers)"
      ],
      "metadata": {
        "id": "MaW-D633kRq7"
      },
      "execution_count": null,
      "outputs": []
    },
    {
      "cell_type": "code",
      "source": [
        "# Sample text\n",
        "text <- \"Natural language processing (NLP) is a subfield of linguistics, computer science, information engineering, and artificial intelligence concerned with the interactions between computers and human (natural) languages, in particular how to program computers to process and analyze large amounts of natural language data. Sentence tokenization, also known as sentence segmentation, is the process of splitting a text into individual sentences based on some predetermined rules.\""
      ],
      "metadata": {
        "id": "Xb8c-cRww4S3"
      },
      "execution_count": null,
      "outputs": []
    },
    {
      "cell_type": "code",
      "source": [
        "words <- unlist(tokenize_words(text))\n",
        "print(words)"
      ],
      "metadata": {
        "colab": {
          "base_uri": "https://localhost:8080/"
        },
        "id": "CqmdPDOBkV2j",
        "outputId": "7f99d7e3-674b-4394-83df-0a5389d5ae93"
      },
      "execution_count": null,
      "outputs": [
        {
          "output_type": "stream",
          "name": "stdout",
          "text": [
            " [1] \"natural\"       \"language\"      \"processing\"    \"nlp\"          \n",
            " [5] \"is\"            \"a\"             \"subfield\"      \"of\"           \n",
            " [9] \"linguistics\"   \"computer\"      \"science\"       \"information\"  \n",
            "[13] \"engineering\"   \"and\"           \"artificial\"    \"intelligence\" \n",
            "[17] \"concerned\"     \"with\"          \"the\"           \"interactions\" \n",
            "[21] \"between\"       \"computers\"     \"and\"           \"human\"        \n",
            "[25] \"natural\"       \"languages\"     \"in\"            \"particular\"   \n",
            "[29] \"how\"           \"to\"            \"program\"       \"computers\"    \n",
            "[33] \"to\"            \"process\"       \"and\"           \"analyze\"      \n",
            "[37] \"large\"         \"amounts\"       \"of\"            \"natural\"      \n",
            "[41] \"language\"      \"data\"          \"sentence\"      \"tokenization\" \n",
            "[45] \"also\"          \"known\"         \"as\"            \"sentence\"     \n",
            "[49] \"segmentation\"  \"is\"            \"the\"           \"process\"      \n",
            "[53] \"of\"            \"splitting\"     \"a\"             \"text\"         \n",
            "[57] \"into\"          \"individual\"    \"sentences\"     \"based\"        \n",
            "[61] \"on\"            \"some\"          \"predetermined\" \"rules\"        \n"
          ]
        }
      ]
    },
    {
      "cell_type": "markdown",
      "source": [
        "## Frequency Distribution"
      ],
      "metadata": {
        "id": "l12flitxhY_L"
      }
    },
    {
      "cell_type": "code",
      "source": [
        "# Compute frequency distribution\n",
        "word_freq <- table(words)"
      ],
      "metadata": {
        "id": "0f_z4OB9hxwV"
      },
      "execution_count": null,
      "outputs": []
    },
    {
      "cell_type": "code",
      "source": [
        "# Get the top N common words\n",
        "top_n <- 10\n",
        "top_words <- head(sort(word_freq, decreasing = TRUE), n = top_n)"
      ],
      "metadata": {
        "id": "C0chIfHGhyO7"
      },
      "execution_count": null,
      "outputs": []
    },
    {
      "cell_type": "code",
      "source": [
        "# Plot frequency distribution of common words\n",
        "barplot(top_words, main = \"Frequency Distribution of Common Words\", xlab = \"Words\", ylab = \"Frequency\")"
      ],
      "metadata": {
        "colab": {
          "base_uri": "https://localhost:8080/",
          "height": 437
        },
        "id": "RzoH0VwrhyLZ",
        "outputId": "90a6a089-cbd3-4e7c-bdbf-c38d740cac42"
      },
      "execution_count": null,
      "outputs": [
        {
          "output_type": "display_data",
          "data": {
            "text/plain": [
              "Plot with title “Frequency Distribution of Common Words”"
            ],
            "image/png": "[encoded data removed]"
          },
          "metadata": {
            "image/png": {
              "width": 420,
              "height": 420
            }
          }
        }
      ]
    },
    {
      "cell_type": "markdown",
      "source": [
        "## Remove stopwords and punctuation"
      ],
      "metadata": {
        "id": "BLvnFBx0h64t"
      }
    },
    {
      "cell_type": "code",
      "source": [
        "# Remove stopwords and punctuation\n",
        "stop_word <- unlist(tokenize_words(text,lowercase = TRUE,stopwords = (\"to\"), strip_punct = TRUE, strip_numeric = TRUE, simplify = FALSE))\n",
        "print(stop_word)"
      ],
      "metadata": {
        "colab": {
          "base_uri": "https://localhost:8080/"
        },
        "id": "q_6QQFvBiNGW",
        "outputId": "a5bafbe4-12fa-4080-9e20-78844f9ac383"
      },
      "execution_count": null,
      "outputs": [
        {
          "output_type": "stream",
          "name": "stdout",
          "text": [
            " [1] \"natural\"       \"language\"      \"processing\"    \"nlp\"          \n",
            " [5] \"is\"            \"a\"             \"subfield\"      \"of\"           \n",
            " [9] \"linguistics\"   \"computer\"      \"science\"       \"information\"  \n",
            "[13] \"engineering\"   \"and\"           \"artificial\"    \"intelligence\" \n",
            "[17] \"concerned\"     \"with\"          \"the\"           \"interactions\" \n",
            "[21] \"between\"       \"computers\"     \"and\"           \"human\"        \n",
            "[25] \"natural\"       \"languages\"     \"in\"            \"particular\"   \n",
            "[29] \"how\"           \"program\"       \"computers\"     \"process\"      \n",
            "[33] \"and\"           \"analyze\"       \"large\"         \"amounts\"      \n",
            "[37] \"of\"            \"natural\"       \"language\"      \"data\"         \n",
            "[41] \"sentence\"      \"tokenization\"  \"also\"          \"known\"        \n",
            "[45] \"as\"            \"sentence\"      \"segmentation\"  \"is\"           \n",
            "[49] \"the\"           \"process\"       \"of\"            \"splitting\"    \n",
            "[53] \"a\"             \"text\"          \"into\"          \"individual\"   \n",
            "[57] \"sentences\"     \"based\"         \"on\"            \"some\"         \n",
            "[61] \"predetermined\" \"rules\"        \n"
          ]
        }
      ]
    },
    {
      "cell_type": "markdown",
      "source": [
        "## Lexicon Normalization (Stemming, Lemmatization)"
      ],
      "metadata": {
        "id": "_OSDDG2CicmX"
      }
    },
    {
      "cell_type": "code",
      "source": [
        "library(SnowballC)"
      ],
      "metadata": {
        "id": "JcM5c-UYltlT"
      },
      "execution_count": null,
      "outputs": []
    },
    {
      "cell_type": "code",
      "source": [
        "# Stemming\n",
        "stemmed_words <- wordStem(words)"
      ],
      "metadata": {
        "id": "M3M6XjYxiynt"
      },
      "execution_count": null,
      "outputs": []
    },
    {
      "cell_type": "code",
      "source": [
        "# Display stemmed words\n",
        "print(\"Stemmed Words:\")\n",
        "print(stemmed_words)"
      ],
      "metadata": {
        "colab": {
          "base_uri": "https://localhost:8080/"
        },
        "id": "0e6gv3P-izB1",
        "outputId": "92155f2c-4571-4db6-8bd5-5b1ddd3003ef"
      },
      "execution_count": null,
      "outputs": [
        {
          "output_type": "stream",
          "name": "stdout",
          "text": [
            "[1] \"Stemmed Words:\"\n",
            " [1] \"natur\"       \"languag\"     \"process\"     \"nlp\"         \"i\"          \n",
            " [6] \"a\"           \"subfield\"    \"of\"          \"linguist\"    \"comput\"     \n",
            "[11] \"scienc\"      \"inform\"      \"engin\"       \"and\"         \"artifici\"   \n",
            "[16] \"intellig\"    \"concern\"     \"with\"        \"the\"         \"interact\"   \n",
            "[21] \"between\"     \"comput\"      \"and\"         \"human\"       \"natur\"      \n",
            "[26] \"languag\"     \"in\"          \"particular\"  \"how\"         \"to\"         \n",
            "[31] \"program\"     \"comput\"      \"to\"          \"process\"     \"and\"        \n",
            "[36] \"analyz\"      \"larg\"        \"amount\"      \"of\"          \"natur\"      \n",
            "[41] \"languag\"     \"data\"        \"sentenc\"     \"token\"       \"also\"       \n",
            "[46] \"known\"       \"a\"           \"sentenc\"     \"segment\"     \"i\"          \n",
            "[51] \"the\"         \"process\"     \"of\"          \"split\"       \"a\"          \n",
            "[56] \"text\"        \"into\"        \"individu\"    \"sentenc\"     \"base\"       \n",
            "[61] \"on\"          \"some\"        \"predetermin\" \"rule\"       \n"
          ]
        }
      ]
    }
  ]
}